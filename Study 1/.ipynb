{
 "cells": [
  {
   "cell_type": "code",
   "execution_count": 4,
   "metadata": {},
   "outputs": [],
   "source": [
    "import numpy as np\n",
    "import pandas as pd\n",
    "import matplotlib.pyplot as plt\n",
    "import seaborn as sns\n",
    "import matplotlib.pylab as pylab"
   ]
  },
  {
   "cell_type": "code",
   "execution_count": 5,
   "metadata": {},
   "outputs": [],
   "source": [
    "#load all the analysis dataset\n",
    "weight_df = pd.read_csv('Weight Measurement Data Analysis.csv')\n",
    "food_df = pd.read_csv('Food Consumption Data Analysis.csv')"
   ]
  },
  {
   "cell_type": "code",
   "execution_count": 6,
   "metadata": {},
   "outputs": [
    {
     "data": {
      "text/html": [
       "<div>\n",
       "<style scoped>\n",
       "    .dataframe tbody tr th:only-of-type {\n",
       "        vertical-align: middle;\n",
       "    }\n",
       "\n",
       "    .dataframe tbody tr th {\n",
       "        vertical-align: top;\n",
       "    }\n",
       "\n",
       "    .dataframe thead th {\n",
       "        text-align: right;\n",
       "    }\n",
       "</style>\n",
       "<table border=\"1\" class=\"dataframe\">\n",
       "  <thead>\n",
       "    <tr style=\"text-align: right;\">\n",
       "      <th></th>\n",
       "      <th>Group</th>\n",
       "      <th>ID</th>\n",
       "      <th>Sex</th>\n",
       "      <th>Age (weeks)</th>\n",
       "      <th>Weight (g) Day 0</th>\n",
       "      <th>Weight (g) Day 28</th>\n",
       "    </tr>\n",
       "  </thead>\n",
       "  <tbody>\n",
       "    <tr>\n",
       "      <th>0</th>\n",
       "      <td>Control</td>\n",
       "      <td>1</td>\n",
       "      <td>Female</td>\n",
       "      <td>5</td>\n",
       "      <td>18</td>\n",
       "      <td>26</td>\n",
       "    </tr>\n",
       "    <tr>\n",
       "      <th>1</th>\n",
       "      <td>Control</td>\n",
       "      <td>2</td>\n",
       "      <td>Male</td>\n",
       "      <td>5</td>\n",
       "      <td>24</td>\n",
       "      <td>34</td>\n",
       "    </tr>\n",
       "    <tr>\n",
       "      <th>2</th>\n",
       "      <td>Control</td>\n",
       "      <td>3</td>\n",
       "      <td>Male</td>\n",
       "      <td>5</td>\n",
       "      <td>20</td>\n",
       "      <td>28</td>\n",
       "    </tr>\n",
       "    <tr>\n",
       "      <th>3</th>\n",
       "      <td>Control</td>\n",
       "      <td>4</td>\n",
       "      <td>Male</td>\n",
       "      <td>8</td>\n",
       "      <td>30</td>\n",
       "      <td>40</td>\n",
       "    </tr>\n",
       "    <tr>\n",
       "      <th>4</th>\n",
       "      <td>Control</td>\n",
       "      <td>5</td>\n",
       "      <td>Male</td>\n",
       "      <td>6</td>\n",
       "      <td>21</td>\n",
       "      <td>33</td>\n",
       "    </tr>\n",
       "  </tbody>\n",
       "</table>\n",
       "</div>"
      ],
      "text/plain": [
       "     Group  ID     Sex  Age (weeks)  Weight (g) Day 0  Weight (g) Day 28\n",
       "0  Control   1  Female            5                18                 26\n",
       "1  Control   2    Male            5                24                 34\n",
       "2  Control   3    Male            5                20                 28\n",
       "3  Control   4    Male            8                30                 40\n",
       "4  Control   5    Male            6                21                 33"
      ]
     },
     "execution_count": 6,
     "metadata": {},
     "output_type": "execute_result"
    }
   ],
   "source": [
    "weight_df.head()"
   ]
  },
  {
   "cell_type": "code",
   "execution_count": 7,
   "metadata": {},
   "outputs": [
    {
     "data": {
      "text/html": [
       "<div>\n",
       "<style scoped>\n",
       "    .dataframe tbody tr th:only-of-type {\n",
       "        vertical-align: middle;\n",
       "    }\n",
       "\n",
       "    .dataframe tbody tr th {\n",
       "        vertical-align: top;\n",
       "    }\n",
       "\n",
       "    .dataframe thead th {\n",
       "        text-align: right;\n",
       "    }\n",
       "</style>\n",
       "<table border=\"1\" class=\"dataframe\">\n",
       "  <thead>\n",
       "    <tr style=\"text-align: right;\">\n",
       "      <th></th>\n",
       "      <th>Treatment Group</th>\n",
       "      <th>Sex</th>\n",
       "      <th>Number of Animals in the Cage</th>\n",
       "      <th>Food Consumed Week 1 (g)</th>\n",
       "      <th>Food Consumed Week 2 (g)</th>\n",
       "      <th>Food Consumed Week 3 (g)</th>\n",
       "      <th>Food Consumed Week 4 (g)</th>\n",
       "      <th>Food Consumed, Total (g)</th>\n",
       "    </tr>\n",
       "  </thead>\n",
       "  <tbody>\n",
       "    <tr>\n",
       "      <th>0</th>\n",
       "      <td>Control</td>\n",
       "      <td>Female</td>\n",
       "      <td>2</td>\n",
       "      <td>42</td>\n",
       "      <td>46</td>\n",
       "      <td>46</td>\n",
       "      <td>48</td>\n",
       "      <td>182</td>\n",
       "    </tr>\n",
       "    <tr>\n",
       "      <th>1</th>\n",
       "      <td>Control</td>\n",
       "      <td>Male</td>\n",
       "      <td>4</td>\n",
       "      <td>110</td>\n",
       "      <td>114</td>\n",
       "      <td>120</td>\n",
       "      <td>124</td>\n",
       "      <td>468</td>\n",
       "    </tr>\n",
       "    <tr>\n",
       "      <th>2</th>\n",
       "      <td>Treatment</td>\n",
       "      <td>Female</td>\n",
       "      <td>4</td>\n",
       "      <td>86</td>\n",
       "      <td>90</td>\n",
       "      <td>90</td>\n",
       "      <td>95</td>\n",
       "      <td>355</td>\n",
       "    </tr>\n",
       "    <tr>\n",
       "      <th>3</th>\n",
       "      <td>Treatment</td>\n",
       "      <td>Male</td>\n",
       "      <td>2</td>\n",
       "      <td>48</td>\n",
       "      <td>50</td>\n",
       "      <td>60</td>\n",
       "      <td>68</td>\n",
       "      <td>226</td>\n",
       "    </tr>\n",
       "  </tbody>\n",
       "</table>\n",
       "</div>"
      ],
      "text/plain": [
       "  Treatment Group     Sex  Number of Animals in the Cage  \\\n",
       "0         Control  Female                              2   \n",
       "1         Control    Male                              4   \n",
       "2       Treatment  Female                              4   \n",
       "3       Treatment    Male                              2   \n",
       "\n",
       "   Food Consumed Week 1 (g)  Food Consumed Week 2 (g)  \\\n",
       "0                        42                        46   \n",
       "1                       110                       114   \n",
       "2                        86                        90   \n",
       "3                        48                        50   \n",
       "\n",
       "   Food Consumed Week 3 (g)  Food Consumed Week 4 (g)  \\\n",
       "0                        46                        48   \n",
       "1                       120                       124   \n",
       "2                        90                        95   \n",
       "3                        60                        68   \n",
       "\n",
       "   Food Consumed, Total (g)  \n",
       "0                       182  \n",
       "1                       468  \n",
       "2                       355  \n",
       "3                       226  "
      ]
     },
     "execution_count": 7,
     "metadata": {},
     "output_type": "execute_result"
    }
   ],
   "source": [
    "food_df.head()"
   ]
  },
  {
   "cell_type": "markdown",
   "metadata": {},
   "source": [
    "<h1 align = 'center'> Weight Measurement Data Analysis </h1>"
   ]
  },
  {
   "cell_type": "markdown",
   "metadata": {},
   "source": [
    "## Descriptive Statistics"
   ]
  },
  {
   "cell_type": "code",
   "execution_count": 8,
   "metadata": {},
   "outputs": [
    {
     "name": "stdout",
     "output_type": "stream",
     "text": [
      "Control Group Initial Stats:\n",
      " count     6.000000\n",
      "mean     21.500000\n",
      "std       4.969909\n",
      "min      16.000000\n",
      "25%      18.500000\n",
      "50%      20.500000\n",
      "75%      23.250000\n",
      "max      30.000000\n",
      "Name: Weight (g) Day 0, dtype: float64\n",
      "Control Group Final Stats:\n",
      " count     6.000000\n",
      "mean     31.000000\n",
      "std       5.727128\n",
      "min      25.000000\n",
      "25%      26.500000\n",
      "50%      30.500000\n",
      "75%      33.750000\n",
      "max      40.000000\n",
      "Name: Weight (g) Day 28, dtype: float64\n",
      "Treatment Group Initial Stats:\n",
      " count     6.000000\n",
      "mean     21.000000\n",
      "std       3.224903\n",
      "min      17.000000\n",
      "25%      18.500000\n",
      "50%      21.000000\n",
      "75%      23.500000\n",
      "max      25.000000\n",
      "Name: Weight (g) Day 0, dtype: float64\n",
      "Treatment Group Final Stats:\n",
      " count     6.000000\n",
      "mean     27.166667\n",
      "std       2.483277\n",
      "min      23.000000\n",
      "25%      26.250000\n",
      "50%      27.500000\n",
      "75%      28.750000\n",
      "max      30.000000\n",
      "Name: Weight (g) Day 28, dtype: float64\n"
     ]
    }
   ],
   "source": [
    "# Calculate statistics for control group\n",
    "control_initial_stats = weight_df[weight_df['Group'] == 'Control']['Weight (g) Day 0'].describe()\n",
    "control_final_stats = weight_df[weight_df['Group'] == 'Control']['Weight (g) Day 28'].describe()\n",
    "\n",
    "# Calculate statistics for treatment group\n",
    "treatment_initial_stats = weight_df[weight_df['Group'] == 'Treatment']['Weight (g) Day 0'].describe()\n",
    "treatment_final_stats = weight_df[weight_df['Group'] == 'Treatment']['Weight (g) Day 28'].describe()\n",
    "\n",
    "# Print results\n",
    "print(\"Control Group Initial Stats:\\n\", control_initial_stats)\n",
    "print(\"Control Group Final Stats:\\n\", control_final_stats)\n",
    "print(\"Treatment Group Initial Stats:\\n\", treatment_initial_stats)\n",
    "print(\"Treatment Group Final Stats:\\n\", treatment_final_stats)"
   ]
  },
  {
   "cell_type": "markdown",
   "metadata": {},
   "source": [
    "## Percent weight change"
   ]
  },
  {
   "cell_type": "code",
   "execution_count": 9,
   "metadata": {},
   "outputs": [],
   "source": [
    "weight_df['Weight Change (%)'] = ((weight_df['Weight (g) Day 28'] - weight_df['Weight (g) Day 0']) / weight_df['Weight (g) Day 0']) * 100"
   ]
  },
  {
   "cell_type": "code",
   "execution_count": 11,
   "metadata": {},
   "outputs": [
    {
     "data": {
      "text/html": [
       "<div>\n",
       "<style scoped>\n",
       "    .dataframe tbody tr th:only-of-type {\n",
       "        vertical-align: middle;\n",
       "    }\n",
       "\n",
       "    .dataframe tbody tr th {\n",
       "        vertical-align: top;\n",
       "    }\n",
       "\n",
       "    .dataframe thead th {\n",
       "        text-align: right;\n",
       "    }\n",
       "</style>\n",
       "<table border=\"1\" class=\"dataframe\">\n",
       "  <thead>\n",
       "    <tr style=\"text-align: right;\">\n",
       "      <th></th>\n",
       "      <th>Group</th>\n",
       "      <th>ID</th>\n",
       "      <th>Sex</th>\n",
       "      <th>Age (weeks)</th>\n",
       "      <th>Weight (g) Day 0</th>\n",
       "      <th>Weight (g) Day 28</th>\n",
       "      <th>Weight Change (%)</th>\n",
       "    </tr>\n",
       "  </thead>\n",
       "  <tbody>\n",
       "    <tr>\n",
       "      <th>0</th>\n",
       "      <td>Control</td>\n",
       "      <td>1</td>\n",
       "      <td>Female</td>\n",
       "      <td>5</td>\n",
       "      <td>18</td>\n",
       "      <td>26</td>\n",
       "      <td>44.444444</td>\n",
       "    </tr>\n",
       "    <tr>\n",
       "      <th>1</th>\n",
       "      <td>Control</td>\n",
       "      <td>2</td>\n",
       "      <td>Male</td>\n",
       "      <td>5</td>\n",
       "      <td>24</td>\n",
       "      <td>34</td>\n",
       "      <td>41.666667</td>\n",
       "    </tr>\n",
       "    <tr>\n",
       "      <th>2</th>\n",
       "      <td>Control</td>\n",
       "      <td>3</td>\n",
       "      <td>Male</td>\n",
       "      <td>5</td>\n",
       "      <td>20</td>\n",
       "      <td>28</td>\n",
       "      <td>40.000000</td>\n",
       "    </tr>\n",
       "    <tr>\n",
       "      <th>3</th>\n",
       "      <td>Control</td>\n",
       "      <td>4</td>\n",
       "      <td>Male</td>\n",
       "      <td>8</td>\n",
       "      <td>30</td>\n",
       "      <td>40</td>\n",
       "      <td>33.333333</td>\n",
       "    </tr>\n",
       "    <tr>\n",
       "      <th>4</th>\n",
       "      <td>Control</td>\n",
       "      <td>5</td>\n",
       "      <td>Male</td>\n",
       "      <td>6</td>\n",
       "      <td>21</td>\n",
       "      <td>33</td>\n",
       "      <td>57.142857</td>\n",
       "    </tr>\n",
       "    <tr>\n",
       "      <th>5</th>\n",
       "      <td>Control</td>\n",
       "      <td>6</td>\n",
       "      <td>Female</td>\n",
       "      <td>4</td>\n",
       "      <td>16</td>\n",
       "      <td>25</td>\n",
       "      <td>56.250000</td>\n",
       "    </tr>\n",
       "    <tr>\n",
       "      <th>6</th>\n",
       "      <td>Treatment</td>\n",
       "      <td>7</td>\n",
       "      <td>Male</td>\n",
       "      <td>7</td>\n",
       "      <td>22</td>\n",
       "      <td>29</td>\n",
       "      <td>31.818182</td>\n",
       "    </tr>\n",
       "    <tr>\n",
       "      <th>7</th>\n",
       "      <td>Treatment</td>\n",
       "      <td>8</td>\n",
       "      <td>Female</td>\n",
       "      <td>5</td>\n",
       "      <td>17</td>\n",
       "      <td>26</td>\n",
       "      <td>52.941176</td>\n",
       "    </tr>\n",
       "    <tr>\n",
       "      <th>8</th>\n",
       "      <td>Treatment</td>\n",
       "      <td>9</td>\n",
       "      <td>Female</td>\n",
       "      <td>5</td>\n",
       "      <td>18</td>\n",
       "      <td>23</td>\n",
       "      <td>27.777778</td>\n",
       "    </tr>\n",
       "    <tr>\n",
       "      <th>9</th>\n",
       "      <td>Treatment</td>\n",
       "      <td>10</td>\n",
       "      <td>Male</td>\n",
       "      <td>5</td>\n",
       "      <td>25</td>\n",
       "      <td>30</td>\n",
       "      <td>20.000000</td>\n",
       "    </tr>\n",
       "    <tr>\n",
       "      <th>10</th>\n",
       "      <td>Treatment</td>\n",
       "      <td>11</td>\n",
       "      <td>Female</td>\n",
       "      <td>5</td>\n",
       "      <td>20</td>\n",
       "      <td>27</td>\n",
       "      <td>35.000000</td>\n",
       "    </tr>\n",
       "    <tr>\n",
       "      <th>11</th>\n",
       "      <td>Treatment</td>\n",
       "      <td>12</td>\n",
       "      <td>Female</td>\n",
       "      <td>10</td>\n",
       "      <td>24</td>\n",
       "      <td>28</td>\n",
       "      <td>16.666667</td>\n",
       "    </tr>\n",
       "  </tbody>\n",
       "</table>\n",
       "</div>"
      ],
      "text/plain": [
       "        Group  ID     Sex  Age (weeks)  Weight (g) Day 0  Weight (g) Day 28  \\\n",
       "0     Control   1  Female            5                18                 26   \n",
       "1     Control   2    Male            5                24                 34   \n",
       "2     Control   3    Male            5                20                 28   \n",
       "3     Control   4    Male            8                30                 40   \n",
       "4     Control   5    Male            6                21                 33   \n",
       "5     Control   6  Female            4                16                 25   \n",
       "6   Treatment   7    Male            7                22                 29   \n",
       "7   Treatment   8  Female            5                17                 26   \n",
       "8   Treatment   9  Female            5                18                 23   \n",
       "9   Treatment  10    Male            5                25                 30   \n",
       "10  Treatment  11  Female            5                20                 27   \n",
       "11  Treatment  12  Female           10                24                 28   \n",
       "\n",
       "    Weight Change (%)  \n",
       "0           44.444444  \n",
       "1           41.666667  \n",
       "2           40.000000  \n",
       "3           33.333333  \n",
       "4           57.142857  \n",
       "5           56.250000  \n",
       "6           31.818182  \n",
       "7           52.941176  \n",
       "8           27.777778  \n",
       "9           20.000000  \n",
       "10          35.000000  \n",
       "11          16.666667  "
      ]
     },
     "execution_count": 11,
     "metadata": {},
     "output_type": "execute_result"
    }
   ],
   "source": [
    "weight_df"
   ]
  },
  {
   "cell_type": "markdown",
   "metadata": {},
   "source": [
    "## Group Comparison (Control vs. Treatment)"
   ]
  },
  {
   "cell_type": "code",
   "execution_count": 12,
   "metadata": {},
   "outputs": [
    {
     "name": "stdout",
     "output_type": "stream",
     "text": [
      "Control Group Mean Weight at Day 0:  21.5\n",
      "Control Group Mean Weight at Day 28:  31.0\n",
      "Treatment Group Mean Weight at Day 0:  21.0\n",
      "Treatment Group Mean Weight at Day 28:  27.166666666666668\n",
      "Control Group Mean Weight Change:  9.5\n",
      "Treatment Group Mean Weight Change:  6.166666666666668\n"
     ]
    }
   ],
   "source": [
    "# Calculate mean weights for control group\n",
    "control_mean_initial = weight_df[weight_df['Group'] == 'Control']['Weight (g) Day 0'].mean()\n",
    "control_mean_final = weight_df[weight_df['Group'] == 'Control']['Weight (g) Day 28'].mean()\n",
    "\n",
    "# Calculate mean weights for treatment group\n",
    "treatment_mean_initial = weight_df[weight_df['Group'] == 'Treatment']['Weight (g) Day 0'].mean()\n",
    "treatment_mean_final = weight_df[weight_df['Group'] == 'Treatment']['Weight (g) Day 28'].mean()\n",
    "\n",
    "# Print results\n",
    "print(\"Control Group Mean Weight at Day 0: \", control_mean_initial)\n",
    "print(\"Control Group Mean Weight at Day 28: \", control_mean_final)\n",
    "print(\"Treatment Group Mean Weight at Day 0: \", treatment_mean_initial)\n",
    "print(\"Treatment Group Mean Weight at Day 28: \", treatment_mean_final)\n",
    "\n",
    "# Compare the mean weights\n",
    "control_weight_change = control_mean_final - control_mean_initial\n",
    "treatment_weight_change = treatment_mean_final - treatment_mean_initial\n",
    "\n",
    "print(\"Control Group Mean Weight Change: \", control_weight_change)\n",
    "print(\"Treatment Group Mean Weight Change: \", treatment_weight_change)"
   ]
  },
  {
   "cell_type": "markdown",
   "metadata": {},
   "source": [
    "## Age and Weight Correlation"
   ]
  },
  {
   "cell_type": "code",
   "execution_count": 13,
   "metadata": {},
   "outputs": [
    {
     "name": "stdout",
     "output_type": "stream",
     "text": [
      "Correlation between Age and Weight at Day 0:  0.6224252677115368\n",
      "Correlation between Age and Weight at Day 28:  0.4043028531832755\n"
     ]
    }
   ],
   "source": [
    "# Calculate correlation between age and weight at Day 0\n",
    "correlation_age_weight_day0 = weight_df['Age (weeks)'].corr(weight_df['Weight (g) Day 0'])\n",
    "\n",
    "# Calculate correlation between age and weight at Day 28\n",
    "correlation_age_weight_day28 = weight_df['Age (weeks)'].corr(weight_df['Weight (g) Day 28'])\n",
    "\n",
    "# Print results\n",
    "print(\"Correlation between Age and Weight at Day 0: \", correlation_age_weight_day0)\n",
    "print(\"Correlation between Age and Weight at Day 28: \", correlation_age_weight_day28)"
   ]
  },
  {
   "cell_type": "markdown",
   "metadata": {},
   "source": [
    "## Gender Based Analysis"
   ]
  },
  {
   "cell_type": "code",
   "execution_count": 14,
   "metadata": {},
   "outputs": [
    {
     "name": "stdout",
     "output_type": "stream",
     "text": [
      "Control Group Male Mean Weight Change:  10.0\n",
      "Control Group Female Mean Weight Change:  8.5\n",
      "Treatment Group Male Mean Weight Change:  6.0\n",
      "Treatment Group Female Mean Weight Change:  6.25\n"
     ]
    }
   ],
   "source": [
    "# Calculate weight change for each mouse\n",
    "weight_df['Weight Change (g)'] = weight_df['Weight (g) Day 28'] - weight_df['Weight (g) Day 0']\n",
    "\n",
    "# Calculate mean weight change for each gender within control group\n",
    "control_male_mean_change = weight_df[(weight_df['Group'] == 'Control') & (weight_df['Sex'] == 'Male')]['Weight Change (g)'].mean()\n",
    "control_female_mean_change = weight_df[(weight_df['Group'] == 'Control') & (weight_df['Sex'] == 'Female')]['Weight Change (g)'].mean()\n",
    "\n",
    "# Calculate mean weight change for each gender within treatment group\n",
    "treatment_male_mean_change = weight_df[(weight_df['Group'] == 'Treatment') & (weight_df['Sex'] == 'Male')]['Weight Change (g)'].mean()\n",
    "treatment_female_mean_change = weight_df[(weight_df['Group'] == 'Treatment') & (weight_df['Sex'] == 'Female')]['Weight Change (g)'].mean()\n",
    "\n",
    "# Print results\n",
    "print(\"Control Group Male Mean Weight Change: \", control_male_mean_change)\n",
    "print(\"Control Group Female Mean Weight Change: \", control_female_mean_change)\n",
    "print(\"Treatment Group Male Mean Weight Change: \", treatment_male_mean_change)\n",
    "print(\"Treatment Group Female Mean Weight Change: \", treatment_female_mean_change)"
   ]
  },
  {
   "cell_type": "markdown",
   "metadata": {},
   "source": [
    "<h1 align = 'center'> Food Consumption Data Analysis </h1>"
   ]
  },
  {
   "cell_type": "markdown",
   "metadata": {},
   "source": [
    "## Weekly consumption trends"
   ]
  },
  {
   "cell_type": "code",
   "execution_count": 15,
   "metadata": {},
   "outputs": [
    {
     "name": "stdout",
     "output_type": "stream",
     "text": [
      "Control Group Mean Food Consumption Week 1:  76.0\n",
      "Control Group Mean Food Consumption Week 2:  80.0\n",
      "Control Group Mean Food Consumption Week 3:  83.0\n",
      "Control Group Mean Food Consumption Week 4:  86.0\n",
      "Treatment Group Mean Food Consumption Week 1:  67.0\n",
      "Treatment Group Mean Food Consumption Week 2:  70.0\n",
      "Treatment Group Mean Food Consumption Week 3:  75.0\n",
      "Treatment Group Mean Food Consumption Week 4:  81.5\n"
     ]
    }
   ],
   "source": [
    "# Calculate mean food consumption for each week within control group\n",
    "control_mean_week1 = food_df[food_df['Treatment Group'] == 'Control']['Food Consumed Week 1 (g)'].mean()\n",
    "control_mean_week2 = food_df[food_df['Treatment Group'] == 'Control']['Food Consumed Week 2 (g)'].mean()\n",
    "control_mean_week3 = food_df[food_df['Treatment Group'] == 'Control']['Food Consumed Week 3 (g)'].mean()\n",
    "control_mean_week4 = food_df[food_df['Treatment Group'] == 'Control']['Food Consumed Week 4 (g)'].mean()\n",
    "\n",
    "# Calculate mean food consumption for each week within treatment group\n",
    "treatment_mean_week1 = food_df[food_df['Treatment Group'] == 'Treatment']['Food Consumed Week 1 (g)'].mean()\n",
    "treatment_mean_week2 = food_df[food_df['Treatment Group'] == 'Treatment']['Food Consumed Week 2 (g)'].mean()\n",
    "treatment_mean_week3 = food_df[food_df['Treatment Group'] == 'Treatment']['Food Consumed Week 3 (g)'].mean()\n",
    "treatment_mean_week4 = food_df[food_df['Treatment Group'] == 'Treatment']['Food Consumed Week 4 (g)'].mean()\n",
    "\n",
    "# Print results\n",
    "print(\"Control Group Mean Food Consumption Week 1: \", control_mean_week1)\n",
    "print(\"Control Group Mean Food Consumption Week 2: \", control_mean_week2)\n",
    "print(\"Control Group Mean Food Consumption Week 3: \", control_mean_week3)\n",
    "print(\"Control Group Mean Food Consumption Week 4: \", control_mean_week4)\n",
    "print(\"Treatment Group Mean Food Consumption Week 1: \", treatment_mean_week1)\n",
    "print(\"Treatment Group Mean Food Consumption Week 2: \", treatment_mean_week2)\n",
    "print(\"Treatment Group Mean Food Consumption Week 3: \", treatment_mean_week3)\n",
    "print(\"Treatment Group Mean Food Consumption Week 4: \", treatment_mean_week4)"
   ]
  },
  {
   "cell_type": "markdown",
   "metadata": {},
   "source": [
    "## Total Food Consumption Comparison"
   ]
  },
  {
   "cell_type": "code",
   "execution_count": 16,
   "metadata": {},
   "outputs": [
    {
     "name": "stdout",
     "output_type": "stream",
     "text": [
      "Control Group Mean Total Food Consumption:  325.0\n",
      "Treatment Group Mean Total Food Consumption:  290.5\n"
     ]
    }
   ],
   "source": [
    "# Calculate mean total food consumption for control group\n",
    "control_mean_total = food_df[food_df['Treatment Group'] == 'Control']['Food Consumed, Total (g)'].mean()\n",
    "\n",
    "# Calculate mean total food consumption for treatment group\n",
    "treatment_mean_total = food_df[food_df['Treatment Group'] == 'Treatment']['Food Consumed, Total (g)'].mean()\n",
    "\n",
    "# Print results\n",
    "print(\"Control Group Mean Total Food Consumption: \", control_mean_total)\n",
    "print(\"Treatment Group Mean Total Food Consumption: \", treatment_mean_total)"
   ]
  },
  {
   "cell_type": "markdown",
   "metadata": {},
   "source": [
    "## Gender-based Consumption Analysis"
   ]
  },
  {
   "cell_type": "code",
   "execution_count": 17,
   "metadata": {},
   "outputs": [
    {
     "name": "stdout",
     "output_type": "stream",
     "text": [
      "Control Group Male Mean Total Food Consumption:  468.0\n",
      "Control Group Female Mean Total Food Consumption:  182.0\n",
      "Treatment Group Male Mean Total Food Consumption:  226.0\n",
      "Treatment Group Female Mean Total Food Consumption:  355.0\n"
     ]
    }
   ],
   "source": [
    "# Calculate mean total food consumption for each gender within control group\n",
    "control_male_mean_total = food_df[(food_df['Treatment Group'] == 'Control') & (food_df['Sex'] == 'Male')]['Food Consumed, Total (g)'].mean()\n",
    "control_female_mean_total = food_df[(food_df['Treatment Group'] == 'Control') & (food_df['Sex'] == 'Female')]['Food Consumed, Total (g)'].mean()\n",
    "\n",
    "# Calculate mean total food consumption for each gender within treatment group\n",
    "treatment_male_mean_total = food_df[(food_df['Treatment Group'] == 'Treatment') & (food_df['Sex'] == 'Male')]['Food Consumed, Total (g)'].mean()\n",
    "treatment_female_mean_total = food_df[(food_df['Treatment Group'] == 'Treatment') & (food_df['Sex'] == 'Female')]['Food Consumed, Total (g)'].mean()\n",
    "\n",
    "# Print results\n",
    "print(\"Control Group Male Mean Total Food Consumption: \", control_male_mean_total)\n",
    "print(\"Control Group Female Mean Total Food Consumption: \", control_female_mean_total)\n",
    "print(\"Treatment Group Male Mean Total Food Consumption: \", treatment_male_mean_total)\n",
    "print(\"Treatment Group Female Mean Total Food Consumption: \", treatment_female_mean_total)"
   ]
  },
  {
   "cell_type": "code",
   "execution_count": 21,
   "metadata": {},
   "outputs": [
    {
     "data": {
      "text/html": [
       "<div>\n",
       "<style scoped>\n",
       "    .dataframe tbody tr th:only-of-type {\n",
       "        vertical-align: middle;\n",
       "    }\n",
       "\n",
       "    .dataframe tbody tr th {\n",
       "        vertical-align: top;\n",
       "    }\n",
       "\n",
       "    .dataframe thead th {\n",
       "        text-align: right;\n",
       "    }\n",
       "</style>\n",
       "<table border=\"1\" class=\"dataframe\">\n",
       "  <thead>\n",
       "    <tr style=\"text-align: right;\">\n",
       "      <th></th>\n",
       "      <th>Treatment Group</th>\n",
       "      <th>Sex</th>\n",
       "      <th>Number of Animals in the Cage</th>\n",
       "      <th>Food Consumed Week 1 (g)</th>\n",
       "      <th>Food Consumed Week 2 (g)</th>\n",
       "      <th>Food Consumed Week 3 (g)</th>\n",
       "      <th>Food Consumed Week 4 (g)</th>\n",
       "      <th>Food Consumed, Total (g)</th>\n",
       "    </tr>\n",
       "  </thead>\n",
       "  <tbody>\n",
       "    <tr>\n",
       "      <th>0</th>\n",
       "      <td>Control</td>\n",
       "      <td>Female</td>\n",
       "      <td>2</td>\n",
       "      <td>42</td>\n",
       "      <td>46</td>\n",
       "      <td>46</td>\n",
       "      <td>48</td>\n",
       "      <td>182</td>\n",
       "    </tr>\n",
       "    <tr>\n",
       "      <th>1</th>\n",
       "      <td>Control</td>\n",
       "      <td>Male</td>\n",
       "      <td>4</td>\n",
       "      <td>110</td>\n",
       "      <td>114</td>\n",
       "      <td>120</td>\n",
       "      <td>124</td>\n",
       "      <td>468</td>\n",
       "    </tr>\n",
       "    <tr>\n",
       "      <th>2</th>\n",
       "      <td>Treatment</td>\n",
       "      <td>Female</td>\n",
       "      <td>4</td>\n",
       "      <td>86</td>\n",
       "      <td>90</td>\n",
       "      <td>90</td>\n",
       "      <td>95</td>\n",
       "      <td>355</td>\n",
       "    </tr>\n",
       "    <tr>\n",
       "      <th>3</th>\n",
       "      <td>Treatment</td>\n",
       "      <td>Male</td>\n",
       "      <td>2</td>\n",
       "      <td>48</td>\n",
       "      <td>50</td>\n",
       "      <td>60</td>\n",
       "      <td>68</td>\n",
       "      <td>226</td>\n",
       "    </tr>\n",
       "  </tbody>\n",
       "</table>\n",
       "</div>"
      ],
      "text/plain": [
       "  Treatment Group     Sex  Number of Animals in the Cage  \\\n",
       "0         Control  Female                              2   \n",
       "1         Control    Male                              4   \n",
       "2       Treatment  Female                              4   \n",
       "3       Treatment    Male                              2   \n",
       "\n",
       "   Food Consumed Week 1 (g)  Food Consumed Week 2 (g)  \\\n",
       "0                        42                        46   \n",
       "1                       110                       114   \n",
       "2                        86                        90   \n",
       "3                        48                        50   \n",
       "\n",
       "   Food Consumed Week 3 (g)  Food Consumed Week 4 (g)  \\\n",
       "0                        46                        48   \n",
       "1                       120                       124   \n",
       "2                        90                        95   \n",
       "3                        60                        68   \n",
       "\n",
       "   Food Consumed, Total (g)  \n",
       "0                       182  \n",
       "1                       468  \n",
       "2                       355  \n",
       "3                       226  "
      ]
     },
     "execution_count": 21,
     "metadata": {},
     "output_type": "execute_result"
    }
   ],
   "source": [
    "food_df.head()"
   ]
  },
  {
   "cell_type": "markdown",
   "metadata": {},
   "source": [
    "## Correlation with Weight Change"
   ]
  },
  {
   "cell_type": "code",
   "execution_count": 22,
   "metadata": {},
   "outputs": [
    {
     "ename": "KeyError",
     "evalue": "'Weight Change (g)'",
     "output_type": "error",
     "traceback": [
      "\u001b[1;31m---------------------------------------------------------------------------\u001b[0m",
      "\u001b[1;31mKeyError\u001b[0m                                  Traceback (most recent call last)",
      "File \u001b[1;32mc:\\Python312\\Lib\\site-packages\\pandas\\core\\indexes\\base.py:3791\u001b[0m, in \u001b[0;36mIndex.get_loc\u001b[1;34m(self, key)\u001b[0m\n\u001b[0;32m   3790\u001b[0m \u001b[38;5;28;01mtry\u001b[39;00m:\n\u001b[1;32m-> 3791\u001b[0m     \u001b[38;5;28;01mreturn\u001b[39;00m \u001b[38;5;28;43mself\u001b[39;49m\u001b[38;5;241;43m.\u001b[39;49m\u001b[43m_engine\u001b[49m\u001b[38;5;241;43m.\u001b[39;49m\u001b[43mget_loc\u001b[49m\u001b[43m(\u001b[49m\u001b[43mcasted_key\u001b[49m\u001b[43m)\u001b[49m\n\u001b[0;32m   3792\u001b[0m \u001b[38;5;28;01mexcept\u001b[39;00m \u001b[38;5;167;01mKeyError\u001b[39;00m \u001b[38;5;28;01mas\u001b[39;00m err:\n",
      "File \u001b[1;32mindex.pyx:152\u001b[0m, in \u001b[0;36mpandas._libs.index.IndexEngine.get_loc\u001b[1;34m()\u001b[0m\n",
      "File \u001b[1;32mindex.pyx:181\u001b[0m, in \u001b[0;36mpandas._libs.index.IndexEngine.get_loc\u001b[1;34m()\u001b[0m\n",
      "File \u001b[1;32mpandas\\_libs\\hashtable_class_helper.pxi:7080\u001b[0m, in \u001b[0;36mpandas._libs.hashtable.PyObjectHashTable.get_item\u001b[1;34m()\u001b[0m\n",
      "File \u001b[1;32mpandas\\_libs\\hashtable_class_helper.pxi:7088\u001b[0m, in \u001b[0;36mpandas._libs.hashtable.PyObjectHashTable.get_item\u001b[1;34m()\u001b[0m\n",
      "\u001b[1;31mKeyError\u001b[0m: 'Weight Change (g)'",
      "\nThe above exception was the direct cause of the following exception:\n",
      "\u001b[1;31mKeyError\u001b[0m                                  Traceback (most recent call last)",
      "Cell \u001b[1;32mIn[22], line 2\u001b[0m\n\u001b[0;32m      1\u001b[0m \u001b[38;5;66;03m# Calculate correlation between weight change and food consumption for each week\u001b[39;00m\n\u001b[1;32m----> 2\u001b[0m correlation_week1 \u001b[38;5;241m=\u001b[39m \u001b[43mfood_df\u001b[49m\u001b[43m[\u001b[49m\u001b[38;5;124;43m'\u001b[39;49m\u001b[38;5;124;43mWeight Change (g)\u001b[39;49m\u001b[38;5;124;43m'\u001b[39;49m\u001b[43m]\u001b[49m\u001b[38;5;241m.\u001b[39mcorr(food_df[\u001b[38;5;124m'\u001b[39m\u001b[38;5;124mFood Consumed Week 1 (g)\u001b[39m\u001b[38;5;124m'\u001b[39m])\n\u001b[0;32m      3\u001b[0m correlation_week2 \u001b[38;5;241m=\u001b[39m food_df[\u001b[38;5;124m'\u001b[39m\u001b[38;5;124mWeight Change (g)\u001b[39m\u001b[38;5;124m'\u001b[39m]\u001b[38;5;241m.\u001b[39mcorr(food_df[\u001b[38;5;124m'\u001b[39m\u001b[38;5;124mFood Consumed Week 2 (g)\u001b[39m\u001b[38;5;124m'\u001b[39m])\n\u001b[0;32m      4\u001b[0m correlation_week3 \u001b[38;5;241m=\u001b[39m food_df[\u001b[38;5;124m'\u001b[39m\u001b[38;5;124mWeight Change (g)\u001b[39m\u001b[38;5;124m'\u001b[39m]\u001b[38;5;241m.\u001b[39mcorr(food_df[\u001b[38;5;124m'\u001b[39m\u001b[38;5;124mFood Consumed Week 3 (g)\u001b[39m\u001b[38;5;124m'\u001b[39m])\n",
      "File \u001b[1;32mc:\\Python312\\Lib\\site-packages\\pandas\\core\\frame.py:3893\u001b[0m, in \u001b[0;36mDataFrame.__getitem__\u001b[1;34m(self, key)\u001b[0m\n\u001b[0;32m   3891\u001b[0m \u001b[38;5;28;01mif\u001b[39;00m \u001b[38;5;28mself\u001b[39m\u001b[38;5;241m.\u001b[39mcolumns\u001b[38;5;241m.\u001b[39mnlevels \u001b[38;5;241m>\u001b[39m \u001b[38;5;241m1\u001b[39m:\n\u001b[0;32m   3892\u001b[0m     \u001b[38;5;28;01mreturn\u001b[39;00m \u001b[38;5;28mself\u001b[39m\u001b[38;5;241m.\u001b[39m_getitem_multilevel(key)\n\u001b[1;32m-> 3893\u001b[0m indexer \u001b[38;5;241m=\u001b[39m \u001b[38;5;28;43mself\u001b[39;49m\u001b[38;5;241;43m.\u001b[39;49m\u001b[43mcolumns\u001b[49m\u001b[38;5;241;43m.\u001b[39;49m\u001b[43mget_loc\u001b[49m\u001b[43m(\u001b[49m\u001b[43mkey\u001b[49m\u001b[43m)\u001b[49m\n\u001b[0;32m   3894\u001b[0m \u001b[38;5;28;01mif\u001b[39;00m is_integer(indexer):\n\u001b[0;32m   3895\u001b[0m     indexer \u001b[38;5;241m=\u001b[39m [indexer]\n",
      "File \u001b[1;32mc:\\Python312\\Lib\\site-packages\\pandas\\core\\indexes\\base.py:3798\u001b[0m, in \u001b[0;36mIndex.get_loc\u001b[1;34m(self, key)\u001b[0m\n\u001b[0;32m   3793\u001b[0m     \u001b[38;5;28;01mif\u001b[39;00m \u001b[38;5;28misinstance\u001b[39m(casted_key, \u001b[38;5;28mslice\u001b[39m) \u001b[38;5;129;01mor\u001b[39;00m (\n\u001b[0;32m   3794\u001b[0m         \u001b[38;5;28misinstance\u001b[39m(casted_key, abc\u001b[38;5;241m.\u001b[39mIterable)\n\u001b[0;32m   3795\u001b[0m         \u001b[38;5;129;01mand\u001b[39;00m \u001b[38;5;28many\u001b[39m(\u001b[38;5;28misinstance\u001b[39m(x, \u001b[38;5;28mslice\u001b[39m) \u001b[38;5;28;01mfor\u001b[39;00m x \u001b[38;5;129;01min\u001b[39;00m casted_key)\n\u001b[0;32m   3796\u001b[0m     ):\n\u001b[0;32m   3797\u001b[0m         \u001b[38;5;28;01mraise\u001b[39;00m InvalidIndexError(key)\n\u001b[1;32m-> 3798\u001b[0m     \u001b[38;5;28;01mraise\u001b[39;00m \u001b[38;5;167;01mKeyError\u001b[39;00m(key) \u001b[38;5;28;01mfrom\u001b[39;00m \u001b[38;5;21;01merr\u001b[39;00m\n\u001b[0;32m   3799\u001b[0m \u001b[38;5;28;01mexcept\u001b[39;00m \u001b[38;5;167;01mTypeError\u001b[39;00m:\n\u001b[0;32m   3800\u001b[0m     \u001b[38;5;66;03m# If we have a listlike key, _check_indexing_error will raise\u001b[39;00m\n\u001b[0;32m   3801\u001b[0m     \u001b[38;5;66;03m#  InvalidIndexError. Otherwise we fall through and re-raise\u001b[39;00m\n\u001b[0;32m   3802\u001b[0m     \u001b[38;5;66;03m#  the TypeError.\u001b[39;00m\n\u001b[0;32m   3803\u001b[0m     \u001b[38;5;28mself\u001b[39m\u001b[38;5;241m.\u001b[39m_check_indexing_error(key)\n",
      "\u001b[1;31mKeyError\u001b[0m: 'Weight Change (g)'"
     ]
    }
   ],
   "source": [
    "# Calculate correlation between weight change and food consumption for each week\n",
    "correlation_week1 = food_df['Weight Change (g)'].corr(food_df['Food Consumed Week 1 (g)'])\n",
    "correlation_week2 = food_df['Weight Change (g)'].corr(food_df['Food Consumed Week 2 (g)'])\n",
    "correlation_week3 = food_df['Weight Change (g)'].corr(food_df['Food Consumed Week 3 (g)'])\n",
    "correlation_week4 = food_df['Weight Change (g)'].corr(food_df['Food Consumed Week 4 (g)'])\n",
    "\n",
    "# Print results\n",
    "print(\"Correlation between Weight Change and Food Consumed Week 1: \", correlation_week1)\n",
    "print(\"Correlation between Weight Change and Food Consumed Week 2: \", correlation_week2)\n",
    "print(\"Correlation between Weight Change and Food Consumed Week 3: \", correlation_week3)\n",
    "print(\"Correlation between Weight Change and Food Consumed Week 4: \", correlation_week4)"
   ]
  },
  {
   "cell_type": "markdown",
   "metadata": {},
   "source": [
    "## Statistical Analysis of Food Consumption"
   ]
  },
  {
   "cell_type": "code",
   "execution_count": 23,
   "metadata": {},
   "outputs": [
    {
     "name": "stdout",
     "output_type": "stream",
     "text": [
      "T-test results: Statistic =  0.2199226226518825 , P-value =  0.8463381240259811\n",
      "Mann-Whitney U test results: Statistic =  2.0 , P-value =  1.0\n"
     ]
    }
   ],
   "source": [
    "from scipy import stats\n",
    "\n",
    "# Separate the total food consumption data for the control and treatment groups\n",
    "control_food = food_df[food_df['Treatment Group'] == 'Control']['Food Consumed, Total (g)']\n",
    "treatment_food = food_df[food_df['Treatment Group'] == 'Treatment']['Food Consumed, Total (g)']\n",
    "\n",
    "# Perform a t-test\n",
    "t_stat, t_p_val = stats.ttest_ind(control_food, treatment_food)\n",
    "print(\"T-test results: Statistic = \", t_stat, \", P-value = \", t_p_val)\n",
    "\n",
    "# Perform a Mann-Whitney U test\n",
    "u_stat, u_p_val = stats.mannwhitneyu(control_food, treatment_food)\n",
    "print(\"Mann-Whitney U test results: Statistic = \", u_stat, \", P-value = \", u_p_val)"
   ]
  }
 ],
 "metadata": {
  "kernelspec": {
   "display_name": "Python 3",
   "language": "python",
   "name": "python3"
  },
  "language_info": {
   "codemirror_mode": {
    "name": "ipython",
    "version": 3
   },
   "file_extension": ".py",
   "mimetype": "text/x-python",
   "name": "python",
   "nbconvert_exporter": "python",
   "pygments_lexer": "ipython3",
   "version": "3.12.1"
  }
 },
 "nbformat": 4,
 "nbformat_minor": 2
}
