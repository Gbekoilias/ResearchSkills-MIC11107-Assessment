{
 "cells": [
  {
   "cell_type": "code",
   "execution_count": 1,
   "metadata": {},
   "outputs": [],
   "source": [
    "import numpy as np\n",
    "import pandas as pd\n",
    "import matplotlib.pyplot as plt\n",
    "import seaborn as sns\n",
    "import matplotlib.pylab as pylab"
   ]
  },
  {
   "cell_type": "code",
   "execution_count": 2,
   "metadata": {},
   "outputs": [],
   "source": [
    "#load all the analysis dataset\n",
    "weight_df = pd.read_csv('Weight Measurement Data Analysis.csv')\n",
    "food_df = pd.read_csv('Food Consumption Data Analysis.csv')"
   ]
  },
  {
   "cell_type": "code",
   "execution_count": 3,
   "metadata": {},
   "outputs": [
    {
     "data": {
      "text/html": [
       "<div>\n",
       "<style scoped>\n",
       "    .dataframe tbody tr th:only-of-type {\n",
       "        vertical-align: middle;\n",
       "    }\n",
       "\n",
       "    .dataframe tbody tr th {\n",
       "        vertical-align: top;\n",
       "    }\n",
       "\n",
       "    .dataframe thead th {\n",
       "        text-align: right;\n",
       "    }\n",
       "</style>\n",
       "<table border=\"1\" class=\"dataframe\">\n",
       "  <thead>\n",
       "    <tr style=\"text-align: right;\">\n",
       "      <th></th>\n",
       "      <th>Group</th>\n",
       "      <th>ID</th>\n",
       "      <th>Sex</th>\n",
       "      <th>Age (weeks)</th>\n",
       "      <th>Weight (g) Day 0</th>\n",
       "      <th>Weight (g) Day 28</th>\n",
       "    </tr>\n",
       "  </thead>\n",
       "  <tbody>\n",
       "    <tr>\n",
       "      <th>0</th>\n",
       "      <td>Control</td>\n",
       "      <td>1</td>\n",
       "      <td>Female</td>\n",
       "      <td>5</td>\n",
       "      <td>18</td>\n",
       "      <td>26</td>\n",
       "    </tr>\n",
       "    <tr>\n",
       "      <th>1</th>\n",
       "      <td>Control</td>\n",
       "      <td>2</td>\n",
       "      <td>Male</td>\n",
       "      <td>5</td>\n",
       "      <td>24</td>\n",
       "      <td>34</td>\n",
       "    </tr>\n",
       "    <tr>\n",
       "      <th>2</th>\n",
       "      <td>Control</td>\n",
       "      <td>3</td>\n",
       "      <td>Male</td>\n",
       "      <td>5</td>\n",
       "      <td>20</td>\n",
       "      <td>28</td>\n",
       "    </tr>\n",
       "    <tr>\n",
       "      <th>3</th>\n",
       "      <td>Control</td>\n",
       "      <td>4</td>\n",
       "      <td>Male</td>\n",
       "      <td>8</td>\n",
       "      <td>30</td>\n",
       "      <td>40</td>\n",
       "    </tr>\n",
       "    <tr>\n",
       "      <th>4</th>\n",
       "      <td>Control</td>\n",
       "      <td>5</td>\n",
       "      <td>Male</td>\n",
       "      <td>6</td>\n",
       "      <td>21</td>\n",
       "      <td>33</td>\n",
       "    </tr>\n",
       "  </tbody>\n",
       "</table>\n",
       "</div>"
      ],
      "text/plain": [
       "     Group  ID     Sex  Age (weeks)  Weight (g) Day 0  Weight (g) Day 28\n",
       "0  Control   1  Female            5                18                 26\n",
       "1  Control   2    Male            5                24                 34\n",
       "2  Control   3    Male            5                20                 28\n",
       "3  Control   4    Male            8                30                 40\n",
       "4  Control   5    Male            6                21                 33"
      ]
     },
     "execution_count": 3,
     "metadata": {},
     "output_type": "execute_result"
    }
   ],
   "source": [
    "weight_df.head()"
   ]
  },
  {
   "cell_type": "code",
   "execution_count": 4,
   "metadata": {},
   "outputs": [
    {
     "data": {
      "text/html": [
       "<div>\n",
       "<style scoped>\n",
       "    .dataframe tbody tr th:only-of-type {\n",
       "        vertical-align: middle;\n",
       "    }\n",
       "\n",
       "    .dataframe tbody tr th {\n",
       "        vertical-align: top;\n",
       "    }\n",
       "\n",
       "    .dataframe thead th {\n",
       "        text-align: right;\n",
       "    }\n",
       "</style>\n",
       "<table border=\"1\" class=\"dataframe\">\n",
       "  <thead>\n",
       "    <tr style=\"text-align: right;\">\n",
       "      <th></th>\n",
       "      <th>Treatment Group</th>\n",
       "      <th>Sex</th>\n",
       "      <th>Number of Animals in the Cage</th>\n",
       "      <th>Food Consumed Week 1 (g)</th>\n",
       "      <th>Food Consumed Week 2 (g)</th>\n",
       "      <th>Food Consumed Week 3 (g)</th>\n",
       "      <th>Food Consumed Week 4 (g)</th>\n",
       "      <th>Food Consumed, Total (g)</th>\n",
       "    </tr>\n",
       "  </thead>\n",
       "  <tbody>\n",
       "    <tr>\n",
       "      <th>0</th>\n",
       "      <td>Control</td>\n",
       "      <td>Female</td>\n",
       "      <td>2</td>\n",
       "      <td>42</td>\n",
       "      <td>46</td>\n",
       "      <td>46</td>\n",
       "      <td>48</td>\n",
       "      <td>182</td>\n",
       "    </tr>\n",
       "    <tr>\n",
       "      <th>1</th>\n",
       "      <td>Control</td>\n",
       "      <td>Male</td>\n",
       "      <td>4</td>\n",
       "      <td>110</td>\n",
       "      <td>114</td>\n",
       "      <td>120</td>\n",
       "      <td>124</td>\n",
       "      <td>468</td>\n",
       "    </tr>\n",
       "    <tr>\n",
       "      <th>2</th>\n",
       "      <td>Treatment</td>\n",
       "      <td>Female</td>\n",
       "      <td>4</td>\n",
       "      <td>86</td>\n",
       "      <td>90</td>\n",
       "      <td>90</td>\n",
       "      <td>95</td>\n",
       "      <td>355</td>\n",
       "    </tr>\n",
       "    <tr>\n",
       "      <th>3</th>\n",
       "      <td>Treatment</td>\n",
       "      <td>Male</td>\n",
       "      <td>2</td>\n",
       "      <td>48</td>\n",
       "      <td>50</td>\n",
       "      <td>60</td>\n",
       "      <td>68</td>\n",
       "      <td>226</td>\n",
       "    </tr>\n",
       "  </tbody>\n",
       "</table>\n",
       "</div>"
      ],
      "text/plain": [
       "  Treatment Group     Sex  Number of Animals in the Cage  \\\n",
       "0         Control  Female                              2   \n",
       "1         Control    Male                              4   \n",
       "2       Treatment  Female                              4   \n",
       "3       Treatment    Male                              2   \n",
       "\n",
       "   Food Consumed Week 1 (g)  Food Consumed Week 2 (g)  \\\n",
       "0                        42                        46   \n",
       "1                       110                       114   \n",
       "2                        86                        90   \n",
       "3                        48                        50   \n",
       "\n",
       "   Food Consumed Week 3 (g)  Food Consumed Week 4 (g)  \\\n",
       "0                        46                        48   \n",
       "1                       120                       124   \n",
       "2                        90                        95   \n",
       "3                        60                        68   \n",
       "\n",
       "   Food Consumed, Total (g)  \n",
       "0                       182  \n",
       "1                       468  \n",
       "2                       355  \n",
       "3                       226  "
      ]
     },
     "execution_count": 4,
     "metadata": {},
     "output_type": "execute_result"
    }
   ],
   "source": [
    "food_df.head()"
   ]
  },
  {
   "cell_type": "markdown",
   "metadata": {},
   "source": [
    "<h1 align = 'center'> Weight Measurement Data Analysis </h1>"
   ]
  },
  {
   "cell_type": "markdown",
   "metadata": {},
   "source": [
    "## Descriptive Statistics"
   ]
  },
  {
   "cell_type": "code",
   "execution_count": 5,
   "metadata": {},
   "outputs": [
    {
     "name": "stdout",
     "output_type": "stream",
     "text": [
      "Control Group Initial Stats:\n",
      " count     6.000000\n",
      "mean     21.500000\n",
      "std       4.969909\n",
      "min      16.000000\n",
      "25%      18.500000\n",
      "50%      20.500000\n",
      "75%      23.250000\n",
      "max      30.000000\n",
      "Name: Weight (g) Day 0, dtype: float64\n",
      "Control Group Final Stats:\n",
      " count     6.000000\n",
      "mean     31.000000\n",
      "std       5.727128\n",
      "min      25.000000\n",
      "25%      26.500000\n",
      "50%      30.500000\n",
      "75%      33.750000\n",
      "max      40.000000\n",
      "Name: Weight (g) Day 28, dtype: float64\n",
      "Treatment Group Initial Stats:\n",
      " count     6.000000\n",
      "mean     21.000000\n",
      "std       3.224903\n",
      "min      17.000000\n",
      "25%      18.500000\n",
      "50%      21.000000\n",
      "75%      23.500000\n",
      "max      25.000000\n",
      "Name: Weight (g) Day 0, dtype: float64\n",
      "Treatment Group Final Stats:\n",
      " count     6.000000\n",
      "mean     27.166667\n",
      "std       2.483277\n",
      "min      23.000000\n",
      "25%      26.250000\n",
      "50%      27.500000\n",
      "75%      28.750000\n",
      "max      30.000000\n",
      "Name: Weight (g) Day 28, dtype: float64\n"
     ]
    }
   ],
   "source": [
    "# Calculate statistics for control group\n",
    "control_initial_stats = weight_df[weight_df['Group'] == 'Control']['Weight (g) Day 0'].describe()\n",
    "control_final_stats = weight_df[weight_df['Group'] == 'Control']['Weight (g) Day 28'].describe()\n",
    "\n",
    "# Calculate statistics for treatment group\n",
    "treatment_initial_stats = weight_df[weight_df['Group'] == 'Treatment']['Weight (g) Day 0'].describe()\n",
    "treatment_final_stats = weight_df[weight_df['Group'] == 'Treatment']['Weight (g) Day 28'].describe()\n",
    "\n",
    "# Print results\n",
    "print(\"Control Group Initial Stats:\\n\", control_initial_stats)\n",
    "print(\"Control Group Final Stats:\\n\", control_final_stats)\n",
    "print(\"Treatment Group Initial Stats:\\n\", treatment_initial_stats)\n",
    "print(\"Treatment Group Final Stats:\\n\", treatment_final_stats)"
   ]
  },
  {
   "cell_type": "markdown",
   "metadata": {},
   "source": [
    "## Percent weight change"
   ]
  },
  {
   "cell_type": "code",
   "execution_count": 6,
   "metadata": {},
   "outputs": [],
   "source": [
    "weight_df['Weight Change (%)'] = ((weight_df['Weight (g) Day 28'] - weight_df['Weight (g) Day 0']) / weight_df['Weight (g) Day 0']) * 100"
   ]
  },
  {
   "cell_type": "code",
   "execution_count": 7,
   "metadata": {},
   "outputs": [
    {
     "data": {
      "text/html": [
       "<div>\n",
       "<style scoped>\n",
       "    .dataframe tbody tr th:only-of-type {\n",
       "        vertical-align: middle;\n",
       "    }\n",
       "\n",
       "    .dataframe tbody tr th {\n",
       "        vertical-align: top;\n",
       "    }\n",
       "\n",
       "    .dataframe thead th {\n",
       "        text-align: right;\n",
       "    }\n",
       "</style>\n",
       "<table border=\"1\" class=\"dataframe\">\n",
       "  <thead>\n",
       "    <tr style=\"text-align: right;\">\n",
       "      <th></th>\n",
       "      <th>Group</th>\n",
       "      <th>ID</th>\n",
       "      <th>Sex</th>\n",
       "      <th>Age (weeks)</th>\n",
       "      <th>Weight (g) Day 0</th>\n",
       "      <th>Weight (g) Day 28</th>\n",
       "      <th>Weight Change (%)</th>\n",
       "    </tr>\n",
       "  </thead>\n",
       "  <tbody>\n",
       "    <tr>\n",
       "      <th>0</th>\n",
       "      <td>Control</td>\n",
       "      <td>1</td>\n",
       "      <td>Female</td>\n",
       "      <td>5</td>\n",
       "      <td>18</td>\n",
       "      <td>26</td>\n",
       "      <td>44.444444</td>\n",
       "    </tr>\n",
       "    <tr>\n",
       "      <th>1</th>\n",
       "      <td>Control</td>\n",
       "      <td>2</td>\n",
       "      <td>Male</td>\n",
       "      <td>5</td>\n",
       "      <td>24</td>\n",
       "      <td>34</td>\n",
       "      <td>41.666667</td>\n",
       "    </tr>\n",
       "    <tr>\n",
       "      <th>2</th>\n",
       "      <td>Control</td>\n",
       "      <td>3</td>\n",
       "      <td>Male</td>\n",
       "      <td>5</td>\n",
       "      <td>20</td>\n",
       "      <td>28</td>\n",
       "      <td>40.000000</td>\n",
       "    </tr>\n",
       "    <tr>\n",
       "      <th>3</th>\n",
       "      <td>Control</td>\n",
       "      <td>4</td>\n",
       "      <td>Male</td>\n",
       "      <td>8</td>\n",
       "      <td>30</td>\n",
       "      <td>40</td>\n",
       "      <td>33.333333</td>\n",
       "    </tr>\n",
       "    <tr>\n",
       "      <th>4</th>\n",
       "      <td>Control</td>\n",
       "      <td>5</td>\n",
       "      <td>Male</td>\n",
       "      <td>6</td>\n",
       "      <td>21</td>\n",
       "      <td>33</td>\n",
       "      <td>57.142857</td>\n",
       "    </tr>\n",
       "    <tr>\n",
       "      <th>5</th>\n",
       "      <td>Control</td>\n",
       "      <td>6</td>\n",
       "      <td>Female</td>\n",
       "      <td>4</td>\n",
       "      <td>16</td>\n",
       "      <td>25</td>\n",
       "      <td>56.250000</td>\n",
       "    </tr>\n",
       "    <tr>\n",
       "      <th>6</th>\n",
       "      <td>Treatment</td>\n",
       "      <td>7</td>\n",
       "      <td>Male</td>\n",
       "      <td>7</td>\n",
       "      <td>22</td>\n",
       "      <td>29</td>\n",
       "      <td>31.818182</td>\n",
       "    </tr>\n",
       "    <tr>\n",
       "      <th>7</th>\n",
       "      <td>Treatment</td>\n",
       "      <td>8</td>\n",
       "      <td>Female</td>\n",
       "      <td>5</td>\n",
       "      <td>17</td>\n",
       "      <td>26</td>\n",
       "      <td>52.941176</td>\n",
       "    </tr>\n",
       "    <tr>\n",
       "      <th>8</th>\n",
       "      <td>Treatment</td>\n",
       "      <td>9</td>\n",
       "      <td>Female</td>\n",
       "      <td>5</td>\n",
       "      <td>18</td>\n",
       "      <td>23</td>\n",
       "      <td>27.777778</td>\n",
       "    </tr>\n",
       "    <tr>\n",
       "      <th>9</th>\n",
       "      <td>Treatment</td>\n",
       "      <td>10</td>\n",
       "      <td>Male</td>\n",
       "      <td>5</td>\n",
       "      <td>25</td>\n",
       "      <td>30</td>\n",
       "      <td>20.000000</td>\n",
       "    </tr>\n",
       "    <tr>\n",
       "      <th>10</th>\n",
       "      <td>Treatment</td>\n",
       "      <td>11</td>\n",
       "      <td>Female</td>\n",
       "      <td>5</td>\n",
       "      <td>20</td>\n",
       "      <td>27</td>\n",
       "      <td>35.000000</td>\n",
       "    </tr>\n",
       "    <tr>\n",
       "      <th>11</th>\n",
       "      <td>Treatment</td>\n",
       "      <td>12</td>\n",
       "      <td>Female</td>\n",
       "      <td>10</td>\n",
       "      <td>24</td>\n",
       "      <td>28</td>\n",
       "      <td>16.666667</td>\n",
       "    </tr>\n",
       "  </tbody>\n",
       "</table>\n",
       "</div>"
      ],
      "text/plain": [
       "        Group  ID     Sex  Age (weeks)  Weight (g) Day 0  Weight (g) Day 28  \\\n",
       "0     Control   1  Female            5                18                 26   \n",
       "1     Control   2    Male            5                24                 34   \n",
       "2     Control   3    Male            5                20                 28   \n",
       "3     Control   4    Male            8                30                 40   \n",
       "4     Control   5    Male            6                21                 33   \n",
       "5     Control   6  Female            4                16                 25   \n",
       "6   Treatment   7    Male            7                22                 29   \n",
       "7   Treatment   8  Female            5                17                 26   \n",
       "8   Treatment   9  Female            5                18                 23   \n",
       "9   Treatment  10    Male            5                25                 30   \n",
       "10  Treatment  11  Female            5                20                 27   \n",
       "11  Treatment  12  Female           10                24                 28   \n",
       "\n",
       "    Weight Change (%)  \n",
       "0           44.444444  \n",
       "1           41.666667  \n",
       "2           40.000000  \n",
       "3           33.333333  \n",
       "4           57.142857  \n",
       "5           56.250000  \n",
       "6           31.818182  \n",
       "7           52.941176  \n",
       "8           27.777778  \n",
       "9           20.000000  \n",
       "10          35.000000  \n",
       "11          16.666667  "
      ]
     },
     "execution_count": 7,
     "metadata": {},
     "output_type": "execute_result"
    }
   ],
   "source": [
    "weight_df"
   ]
  },
  {
   "cell_type": "code",
   "execution_count": 8,
   "metadata": {},
   "outputs": [
    {
     "data": {
      "image/png": "[encoded data removed]",
      "text/plain": [
       "<Figure size 640x480 with 1 Axes>"
      ]
     },
     "metadata": {},
     "output_type": "display_data"
    }
   ],
   "source": [
    "# Filter DataFrames\n",
    "control_df = weight_df[weight_df['Group'] == 'Control']\n",
    "treatment_df = weight_df[weight_df['Group'] == 'Treatment']\n",
    "\n",
    "# Plot\n",
    "plt.bar(control_df['ID'], control_df['Weight Change (%)'], color='red', label='Control')\n",
    "plt.bar(treatment_df['ID'], treatment_df['Weight Change (%)'], color='blue', label='Treatment')\n",
    "\n",
    "plt.xlabel('ID')\n",
    "plt.ylabel('Weight Change (%)')\n",
    "plt.legend()\n",
    "plt.show()"
   ]
  },
  {
   "cell_type": "markdown",
   "metadata": {},
   "source": [
    "## Group Comparison (Control vs. Treatment)"
   ]
  },
  {
   "cell_type": "code",
   "execution_count": 12,
   "metadata": {},
   "outputs": [
    {
     "name": "stdout",
     "output_type": "stream",
     "text": [
      "Control Group Mean Weight at Day 0:  21.5\n",
      "Control Group Mean Weight at Day 28:  31.0\n",
      "Treatment Group Mean Weight at Day 0:  21.0\n",
      "Treatment Group Mean Weight at Day 28:  27.166666666666668\n",
      "Control Group Mean Weight Change:  9.5\n",
      "Treatment Group Mean Weight Change:  6.166666666666668\n"
     ]
    }
   ],
   "source": [
    "# Calculate mean weights for control group\n",
    "control_mean_initial = weight_df[weight_df['Group'] == 'Control']['Weight (g) Day 0'].mean()\n",
    "control_mean_final = weight_df[weight_df['Group'] == 'Control']['Weight (g) Day 28'].mean()\n",
    "\n",
    "# Calculate mean weights for treatment group\n",
    "treatment_mean_initial = weight_df[weight_df['Group'] == 'Treatment']['Weight (g) Day 0'].mean()\n",
    "treatment_mean_final = weight_df[weight_df['Group'] == 'Treatment']['Weight (g) Day 28'].mean()\n",
    "\n",
    "# Print results\n",
    "print(\"Control Group Mean Weight at Day 0: \", control_mean_initial)\n",
    "print(\"Control Group Mean Weight at Day 28: \", control_mean_final)\n",
    "print(\"Treatment Group Mean Weight at Day 0: \", treatment_mean_initial)\n",
    "print(\"Treatment Group Mean Weight at Day 28: \", treatment_mean_final)\n",
    "\n",
    "# Compare the mean weights\n",
    "control_weight_change = control_mean_final - control_mean_initial\n",
    "treatment_weight_change = treatment_mean_final - treatment_mean_initial\n",
    "\n",
    "print(\"Control Group Mean Weight Change: \", control_weight_change)\n",
    "print(\"Treatment Group Mean Weight Change: \", treatment_weight_change)"
   ]
  },
  {
   "cell_type": "markdown",
   "metadata": {},
   "source": [
    "## Age and Weight Correlation"
   ]
  },
  {
   "cell_type": "code",
   "execution_count": 13,
   "metadata": {},
   "outputs": [
    {
     "data": {
      "image/png": "[encoded data removed]",
      "text/plain": [
       "<Figure size 1000x500 with 2 Axes>"
      ]
     },
     "metadata": {},
     "output_type": "display_data"
    }
   ],
   "source": [
    "# Scatter plot for Age and Weight at Day 0\n",
    "plt.figure(figsize=(10, 5))\n",
    "plt.subplot(1, 2, 1)\n",
    "plt.scatter(weight_df['Age (weeks)'], weight_df['Weight (g) Day 0'])\n",
    "m, b = np.polyfit(weight_df['Age (weeks)'], weight_df['Weight (g) Day 0'], 1)\n",
    "plt.plot(weight_df['Age (weeks)'], m*weight_df['Age (weeks)'] + b, color='red')\n",
    "plt.title('Age vs Weight at Day 0')\n",
    "plt.xlabel('Age (weeks)')\n",
    "plt.ylabel('Weight (g) Day 0')\n",
    "plt.text(0.2, 0.8, f'Correlation: {correlation_age_weight_day0:.2f}', transform=plt.gca().transAxes)\n",
    "\n",
    "# Scatter plot for Age and Weight at Day 28\n",
    "plt.subplot(1, 2, 2)\n",
    "plt.scatter(weight_df['Age (weeks)'], weight_df['Weight (g) Day 28'])\n",
    "m, b = np.polyfit(weight_df['Age (weeks)'], weight_df['Weight (g) Day 28'], 1)\n",
    "plt.plot(weight_df['Age (weeks)'], m*weight_df['Age (weeks)'] + b, color='red')\n",
    "plt.title('Age vs Weight at Day 28')\n",
    "plt.xlabel('Age (weeks)')\n",
    "plt.ylabel('Weight (g) Day 28')\n",
    "plt.text(0.2, 0.8, f'Correlation: {correlation_age_weight_day28:.2f}', transform=plt.gca().transAxes)\n",
    "\n",
    "plt.tight_layout()\n",
    "plt.show()"
   ]
  },
  {
   "cell_type": "code",
   "execution_count": 11,
   "metadata": {},
   "outputs": [
    {
     "name": "stdout",
     "output_type": "stream",
     "text": [
      "Correlation between Age and Weight at Day 0:  0.6224252677115368\n",
      "Correlation between Age and Weight at Day 28:  0.4043028531832755\n"
     ]
    }
   ],
   "source": [
    "# Calculate correlation between age and weight at Day 0\n",
    "correlation_age_weight_day0 = weight_df['Age (weeks)'].corr(weight_df['Weight (g) Day 0'])\n",
    "\n",
    "# Calculate correlation between age and weight at Day 28\n",
    "correlation_age_weight_day28 = weight_df['Age (weeks)'].corr(weight_df['Weight (g) Day 28'])\n",
    "\n",
    "# Print results\n",
    "print(\"Correlation between Age and Weight at Day 0: \", correlation_age_weight_day0)\n",
    "print(\"Correlation between Age and Weight at Day 28: \", correlation_age_weight_day28)"
   ]
  },
  {
   "cell_type": "markdown",
   "metadata": {},
   "source": [
    "## Gender Based Analysis"
   ]
  },
  {
   "cell_type": "code",
   "execution_count": 10,
   "metadata": {},
   "outputs": [
    {
     "data": {
      "image/png": "[encoded data removed]",
      "text/plain": [
       "<Figure size 640x480 with 1 Axes>"
      ]
     },
     "metadata": {},
     "output_type": "display_data"
    }
   ],
   "source": [
    "# Create lists for categories and mean weight changes\n",
    "categories = ['Control Male', 'Control Female', 'Treatment Male', 'Treatment Female']\n",
    "mean_changes = [control_male_mean_change, control_female_mean_change, treatment_male_mean_change, treatment_female_mean_change]\n",
    "\n",
    "# Plot\n",
    "plt.bar(categories, mean_changes, color=['blue', 'orange', 'green', 'red'])\n",
    "plt.xlabel('Group and Gender')\n",
    "plt.ylabel('Mean Weight Change (g)')\n",
    "plt.title('Mean Weight Change by Group and Gender')\n",
    "plt.show()"
   ]
  },
  {
   "cell_type": "code",
   "execution_count": 9,
   "metadata": {},
   "outputs": [
    {
     "name": "stdout",
     "output_type": "stream",
     "text": [
      "Control Group Male Mean Weight Change:  10.0\n",
      "Control Group Female Mean Weight Change:  8.5\n",
      "Treatment Group Male Mean Weight Change:  6.0\n",
      "Treatment Group Female Mean Weight Change:  6.25\n"
     ]
    }
   ],
   "source": [
    "# Calculate weight change for each mouse\n",
    "weight_df['Weight Change (g)'] = weight_df['Weight (g) Day 28'] - weight_df['Weight (g) Day 0']\n",
    "\n",
    "# Calculate mean weight change for each gender within control group\n",
    "control_male_mean_change = weight_df[(weight_df['Group'] == 'Control') & (weight_df['Sex'] == 'Male')]['Weight Change (g)'].mean()\n",
    "control_female_mean_change = weight_df[(weight_df['Group'] == 'Control') & (weight_df['Sex'] == 'Female')]['Weight Change (g)'].mean()\n",
    "\n",
    "# Calculate mean weight change for each gender within treatment group\n",
    "treatment_male_mean_change = weight_df[(weight_df['Group'] == 'Treatment') & (weight_df['Sex'] == 'Male')]['Weight Change (g)'].mean()\n",
    "treatment_female_mean_change = weight_df[(weight_df['Group'] == 'Treatment') & (weight_df['Sex'] == 'Female')]['Weight Change (g)'].mean()\n",
    "\n",
    "# Print results\n",
    "print(\"Control Group Male Mean Weight Change: \", control_male_mean_change)\n",
    "print(\"Control Group Female Mean Weight Change: \", control_female_mean_change)\n",
    "print(\"Treatment Group Male Mean Weight Change: \", treatment_male_mean_change)\n",
    "print(\"Treatment Group Female Mean Weight Change: \", treatment_female_mean_change)"
   ]
  },
  {
   "cell_type": "markdown",
   "metadata": {},
   "source": [
    "<h1 align = 'center'> Food Consumption Data Analysis </h1>"
   ]
  },
  {
   "cell_type": "markdown",
   "metadata": {},
   "source": [
    "## Weekly consumption trends"
   ]
  },
  {
   "cell_type": "code",
   "execution_count": 15,
   "metadata": {},
   "outputs": [
    {
     "name": "stdout",
     "output_type": "stream",
     "text": [
      "Control Group Mean Food Consumption Week 1:  76.0\n",
      "Control Group Mean Food Consumption Week 2:  80.0\n",
      "Control Group Mean Food Consumption Week 3:  83.0\n",
      "Control Group Mean Food Consumption Week 4:  86.0\n",
      "Treatment Group Mean Food Consumption Week 1:  67.0\n",
      "Treatment Group Mean Food Consumption Week 2:  70.0\n",
      "Treatment Group Mean Food Consumption Week 3:  75.0\n",
      "Treatment Group Mean Food Consumption Week 4:  81.5\n"
     ]
    }
   ],
   "source": [
    "# Calculate mean food consumption for each week within control group\n",
    "control_mean_week1 = food_df[food_df['Treatment Group'] == 'Control']['Food Consumed Week 1 (g)'].mean()\n",
    "control_mean_week2 = food_df[food_df['Treatment Group'] == 'Control']['Food Consumed Week 2 (g)'].mean()\n",
    "control_mean_week3 = food_df[food_df['Treatment Group'] == 'Control']['Food Consumed Week 3 (g)'].mean()\n",
    "control_mean_week4 = food_df[food_df['Treatment Group'] == 'Control']['Food Consumed Week 4 (g)'].mean()\n",
    "\n",
    "# Calculate mean food consumption for each week within treatment group\n",
    "treatment_mean_week1 = food_df[food_df['Treatment Group'] == 'Treatment']['Food Consumed Week 1 (g)'].mean()\n",
    "treatment_mean_week2 = food_df[food_df['Treatment Group'] == 'Treatment']['Food Consumed Week 2 (g)'].mean()\n",
    "treatment_mean_week3 = food_df[food_df['Treatment Group'] == 'Treatment']['Food Consumed Week 3 (g)'].mean()\n",
    "treatment_mean_week4 = food_df[food_df['Treatment Group'] == 'Treatment']['Food Consumed Week 4 (g)'].mean()\n",
    "\n",
    "# Print results\n",
    "print(\"Control Group Mean Food Consumption Week 1: \", control_mean_week1)\n",
    "print(\"Control Group Mean Food Consumption Week 2: \", control_mean_week2)\n",
    "print(\"Control Group Mean Food Consumption Week 3: \", control_mean_week3)\n",
    "print(\"Control Group Mean Food Consumption Week 4: \", control_mean_week4)\n",
    "print(\"Treatment Group Mean Food Consumption Week 1: \", treatment_mean_week1)\n",
    "print(\"Treatment Group Mean Food Consumption Week 2: \", treatment_mean_week2)\n",
    "print(\"Treatment Group Mean Food Consumption Week 3: \", treatment_mean_week3)\n",
    "print(\"Treatment Group Mean Food Consumption Week 4: \", treatment_mean_week4)"
   ]
  },
  {
   "cell_type": "code",
   "execution_count": 16,
   "metadata": {},
   "outputs": [
    {
     "data": {
      "image/png": "[encoded data removed]",
      "text/plain": [
       "<Figure size 640x480 with 1 Axes>"
      ]
     },
     "metadata": {},
     "output_type": "display_data"
    }
   ],
   "source": [
    "# Create lists for weeks and mean food consumptions\n",
    "weeks = ['Week 1', 'Week 2', 'Week 3', 'Week 4']\n",
    "control_means = [control_mean_week1, control_mean_week2, control_mean_week3, control_mean_week4]\n",
    "treatment_means = [treatment_mean_week1, treatment_mean_week2, treatment_mean_week3, treatment_mean_week4]\n",
    "\n",
    "# Plot\n",
    "plt.plot(weeks, control_means, marker='o', label='Control Group')\n",
    "plt.plot(weeks, treatment_means, marker='o', label='Treatment Group')\n",
    "plt.xlabel('Week')\n",
    "plt.ylabel('Mean Food Consumption (g)')\n",
    "plt.title('Mean Food Consumption by Week and Group')\n",
    "plt.legend()\n",
    "plt.show()"
   ]
  },
  {
   "cell_type": "markdown",
   "metadata": {},
   "source": [
    "## Total Food Consumption Comparison"
   ]
  },
  {
   "cell_type": "code",
   "execution_count": 16,
   "metadata": {},
   "outputs": [
    {
     "name": "stdout",
     "output_type": "stream",
     "text": [
      "Control Group Mean Total Food Consumption:  325.0\n",
      "Treatment Group Mean Total Food Consumption:  290.5\n"
     ]
    }
   ],
   "source": [
    "# Calculate mean total food consumption for control group\n",
    "control_mean_total = food_df[food_df['Treatment Group'] == 'Control']['Food Consumed, Total (g)'].mean()\n",
    "\n",
    "# Calculate mean total food consumption for treatment group\n",
    "treatment_mean_total = food_df[food_df['Treatment Group'] == 'Treatment']['Food Consumed, Total (g)'].mean()\n",
    "\n",
    "# Print results\n",
    "print(\"Control Group Mean Total Food Consumption: \", control_mean_total)\n",
    "print(\"Treatment Group Mean Total Food Consumption: \", treatment_mean_total)"
   ]
  },
  {
   "cell_type": "markdown",
   "metadata": {},
   "source": [
    "## Gender-based Consumption Analysis"
   ]
  },
  {
   "cell_type": "code",
   "execution_count": 17,
   "metadata": {},
   "outputs": [
    {
     "name": "stdout",
     "output_type": "stream",
     "text": [
      "Control Group Male Mean Total Food Consumption:  468.0\n",
      "Control Group Female Mean Total Food Consumption:  182.0\n",
      "Treatment Group Male Mean Total Food Consumption:  226.0\n",
      "Treatment Group Female Mean Total Food Consumption:  355.0\n"
     ]
    }
   ],
   "source": [
    "# Calculate mean total food consumption for each gender within control group\n",
    "control_male_mean_total = food_df[(food_df['Treatment Group'] == 'Control') & (food_df['Sex'] == 'Male')]['Food Consumed, Total (g)'].mean()\n",
    "control_female_mean_total = food_df[(food_df['Treatment Group'] == 'Control') & (food_df['Sex'] == 'Female')]['Food Consumed, Total (g)'].mean()\n",
    "\n",
    "# Calculate mean total food consumption for each gender within treatment group\n",
    "treatment_male_mean_total = food_df[(food_df['Treatment Group'] == 'Treatment') & (food_df['Sex'] == 'Male')]['Food Consumed, Total (g)'].mean()\n",
    "treatment_female_mean_total = food_df[(food_df['Treatment Group'] == 'Treatment') & (food_df['Sex'] == 'Female')]['Food Consumed, Total (g)'].mean()\n",
    "\n",
    "# Print results\n",
    "print(\"Control Group Male Mean Total Food Consumption: \", control_male_mean_total)\n",
    "print(\"Control Group Female Mean Total Food Consumption: \", control_female_mean_total)\n",
    "print(\"Treatment Group Male Mean Total Food Consumption: \", treatment_male_mean_total)\n",
    "print(\"Treatment Group Female Mean Total Food Consumption: \", treatment_female_mean_total)"
   ]
  },
  {
   "cell_type": "code",
   "execution_count": 18,
   "metadata": {},
   "outputs": [
    {
     "data": {
      "image/png": "[encoded data removed]",
      "text/plain": [
       "<Figure size 640x480 with 1 Axes>"
      ]
     },
     "metadata": {},
     "output_type": "display_data"
    }
   ],
   "source": [
    "# Create lists for categories and mean total food consumptions\n",
    "categories = ['Control Male', 'Control Female', 'Treatment Male', 'Treatment Female']\n",
    "mean_totals = [control_male_mean_total, control_female_mean_total, treatment_male_mean_total, treatment_female_mean_total]\n",
    "\n",
    "# Plot\n",
    "plt.bar(categories, mean_totals, color=['blue', 'orange', 'green', 'red'])\n",
    "plt.xlabel('Group and Gender')\n",
    "plt.ylabel('Mean Total Food Consumption (g)')\n",
    "plt.title('Mean Total Food Consumption by Group and Gender')\n",
    "plt.show()"
   ]
  },
  {
   "cell_type": "code",
   "execution_count": 21,
   "metadata": {},
   "outputs": [
    {
     "data": {
      "text/html": [
       "<div>\n",
       "<style scoped>\n",
       "    .dataframe tbody tr th:only-of-type {\n",
       "        vertical-align: middle;\n",
       "    }\n",
       "\n",
       "    .dataframe tbody tr th {\n",
       "        vertical-align: top;\n",
       "    }\n",
       "\n",
       "    .dataframe thead th {\n",
       "        text-align: right;\n",
       "    }\n",
       "</style>\n",
       "<table border=\"1\" class=\"dataframe\">\n",
       "  <thead>\n",
       "    <tr style=\"text-align: right;\">\n",
       "      <th></th>\n",
       "      <th>Treatment Group</th>\n",
       "      <th>Sex</th>\n",
       "      <th>Number of Animals in the Cage</th>\n",
       "      <th>Food Consumed Week 1 (g)</th>\n",
       "      <th>Food Consumed Week 2 (g)</th>\n",
       "      <th>Food Consumed Week 3 (g)</th>\n",
       "      <th>Food Consumed Week 4 (g)</th>\n",
       "      <th>Food Consumed, Total (g)</th>\n",
       "    </tr>\n",
       "  </thead>\n",
       "  <tbody>\n",
       "    <tr>\n",
       "      <th>0</th>\n",
       "      <td>Control</td>\n",
       "      <td>Female</td>\n",
       "      <td>2</td>\n",
       "      <td>42</td>\n",
       "      <td>46</td>\n",
       "      <td>46</td>\n",
       "      <td>48</td>\n",
       "      <td>182</td>\n",
       "    </tr>\n",
       "    <tr>\n",
       "      <th>1</th>\n",
       "      <td>Control</td>\n",
       "      <td>Male</td>\n",
       "      <td>4</td>\n",
       "      <td>110</td>\n",
       "      <td>114</td>\n",
       "      <td>120</td>\n",
       "      <td>124</td>\n",
       "      <td>468</td>\n",
       "    </tr>\n",
       "    <tr>\n",
       "      <th>2</th>\n",
       "      <td>Treatment</td>\n",
       "      <td>Female</td>\n",
       "      <td>4</td>\n",
       "      <td>86</td>\n",
       "      <td>90</td>\n",
       "      <td>90</td>\n",
       "      <td>95</td>\n",
       "      <td>355</td>\n",
       "    </tr>\n",
       "    <tr>\n",
       "      <th>3</th>\n",
       "      <td>Treatment</td>\n",
       "      <td>Male</td>\n",
       "      <td>2</td>\n",
       "      <td>48</td>\n",
       "      <td>50</td>\n",
       "      <td>60</td>\n",
       "      <td>68</td>\n",
       "      <td>226</td>\n",
       "    </tr>\n",
       "  </tbody>\n",
       "</table>\n",
       "</div>"
      ],
      "text/plain": [
       "  Treatment Group     Sex  Number of Animals in the Cage  \\\n",
       "0         Control  Female                              2   \n",
       "1         Control    Male                              4   \n",
       "2       Treatment  Female                              4   \n",
       "3       Treatment    Male                              2   \n",
       "\n",
       "   Food Consumed Week 1 (g)  Food Consumed Week 2 (g)  \\\n",
       "0                        42                        46   \n",
       "1                       110                       114   \n",
       "2                        86                        90   \n",
       "3                        48                        50   \n",
       "\n",
       "   Food Consumed Week 3 (g)  Food Consumed Week 4 (g)  \\\n",
       "0                        46                        48   \n",
       "1                       120                       124   \n",
       "2                        90                        95   \n",
       "3                        60                        68   \n",
       "\n",
       "   Food Consumed, Total (g)  \n",
       "0                       182  \n",
       "1                       468  \n",
       "2                       355  \n",
       "3                       226  "
      ]
     },
     "execution_count": 21,
     "metadata": {},
     "output_type": "execute_result"
    }
   ],
   "source": [
    "food_df.head()"
   ]
  },
  {
   "cell_type": "markdown",
   "metadata": {},
   "source": [
    "## Statistical Analysis of Food Consumption"
   ]
  },
  {
   "cell_type": "code",
   "execution_count": 20,
   "metadata": {},
   "outputs": [
    {
     "name": "stdout",
     "output_type": "stream",
     "text": [
      "T-test results: Statistic =  0.2199226226518825 , P-value =  0.8463381240259811\n",
      "Mann-Whitney U test results: Statistic =  2.0 , P-value =  1.0\n"
     ]
    }
   ],
   "source": [
    "from scipy import stats\n",
    "\n",
    "# Separate the total food consumption data for the control and treatment groups\n",
    "control_food = food_df[food_df['Treatment Group'] == 'Control']['Food Consumed, Total (g)']\n",
    "treatment_food = food_df[food_df['Treatment Group'] == 'Treatment']['Food Consumed, Total (g)']\n",
    "\n",
    "# Perform a t-test\n",
    "t_stat, t_p_val = stats.ttest_ind(control_food, treatment_food)\n",
    "print(\"T-test results: Statistic = \", t_stat, \", P-value = \", t_p_val)\n",
    "\n",
    "# Perform a Mann-Whitney U test\n",
    "u_stat, u_p_val = stats.mannwhitneyu(control_food, treatment_food)\n",
    "print(\"Mann-Whitney U test results: Statistic = \", u_stat, \", P-value = \", u_p_val)"
   ]
  },
  {
   "cell_type": "code",
   "execution_count": 21,
   "metadata": {},
   "outputs": [
    {
     "name": "stdout",
     "output_type": "stream",
     "text": [
      "                  Test  Statistic   P-value\n",
      "0               T-test   0.219923  0.846338\n",
      "1  Mann-Whitney U test   2.000000  1.000000\n"
     ]
    }
   ],
   "source": [
    "# Create a DataFrame for the results\n",
    "results_df = pd.DataFrame({\n",
    "      'Test': ['T-test', 'Mann-Whitney U test'],\n",
    "      'Statistic': [t_stat, u_stat],\n",
    "      'P-value': [t_p_val, u_p_val]\n",
    "})\n",
    "\n",
    "# Print the DataFrame\n",
    "print(results_df)"
   ]
  }
 ],
 "metadata": {
  "kernelspec": {
   "display_name": "Python 3",
   "language": "python",
   "name": "python3"
  },
  "language_info": {
   "codemirror_mode": {
    "name": "ipython",
    "version": 3
   },
   "file_extension": ".py",
   "mimetype": "text/x-python",
   "name": "python",
   "nbconvert_exporter": "python",
   "pygments_lexer": "ipython3",
   "version": "3.12.1"
  }
 },
 "nbformat": 4,
 "nbformat_minor": 2
}
