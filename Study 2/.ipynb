{
 "cells": [
  {
   "cell_type": "code",
   "execution_count": 2,
   "metadata": {},
   "outputs": [],
   "source": [
    "#import relevant libraries\n",
    "import numpy as np\n",
    "import pandas as pd\n",
    "import matplotlib.pyplot as plt\n",
    "import seaborn as sns\n",
    "import os"
   ]
  },
  {
   "cell_type": "code",
   "execution_count": 3,
   "metadata": {},
   "outputs": [
    {
     "data": {
      "text/html": [
       "<div>\n",
       "<style scoped>\n",
       "    .dataframe tbody tr th:only-of-type {\n",
       "        vertical-align: middle;\n",
       "    }\n",
       "\n",
       "    .dataframe tbody tr th {\n",
       "        vertical-align: top;\n",
       "    }\n",
       "\n",
       "    .dataframe thead th {\n",
       "        text-align: right;\n",
       "    }\n",
       "</style>\n",
       "<table border=\"1\" class=\"dataframe\">\n",
       "  <thead>\n",
       "    <tr style=\"text-align: right;\">\n",
       "      <th></th>\n",
       "      <th>Group</th>\n",
       "      <th>96-well position</th>\n",
       "      <th>Absorbance</th>\n",
       "    </tr>\n",
       "  </thead>\n",
       "  <tbody>\n",
       "    <tr>\n",
       "      <th>0</th>\n",
       "      <td>Control</td>\n",
       "      <td>B2</td>\n",
       "      <td>0.55</td>\n",
       "    </tr>\n",
       "    <tr>\n",
       "      <th>1</th>\n",
       "      <td>Control</td>\n",
       "      <td>B3</td>\n",
       "      <td>0.80</td>\n",
       "    </tr>\n",
       "    <tr>\n",
       "      <th>2</th>\n",
       "      <td>Control</td>\n",
       "      <td>B4</td>\n",
       "      <td>0.65</td>\n",
       "    </tr>\n",
       "    <tr>\n",
       "      <th>3</th>\n",
       "      <td>Control</td>\n",
       "      <td>B5</td>\n",
       "      <td>0.60</td>\n",
       "    </tr>\n",
       "    <tr>\n",
       "      <th>4</th>\n",
       "      <td>Control</td>\n",
       "      <td>B6</td>\n",
       "      <td>0.54</td>\n",
       "    </tr>\n",
       "    <tr>\n",
       "      <th>5</th>\n",
       "      <td>Control</td>\n",
       "      <td>B7</td>\n",
       "      <td>0.40</td>\n",
       "    </tr>\n",
       "    <tr>\n",
       "      <th>6</th>\n",
       "      <td>Treated</td>\n",
       "      <td>C2</td>\n",
       "      <td>0.35</td>\n",
       "    </tr>\n",
       "    <tr>\n",
       "      <th>7</th>\n",
       "      <td>Treated</td>\n",
       "      <td>C3</td>\n",
       "      <td>0.40</td>\n",
       "    </tr>\n",
       "    <tr>\n",
       "      <th>8</th>\n",
       "      <td>Treated</td>\n",
       "      <td>C4</td>\n",
       "      <td>0.24</td>\n",
       "    </tr>\n",
       "    <tr>\n",
       "      <th>9</th>\n",
       "      <td>Treated</td>\n",
       "      <td>C5</td>\n",
       "      <td>0.50</td>\n",
       "    </tr>\n",
       "    <tr>\n",
       "      <th>10</th>\n",
       "      <td>Treated</td>\n",
       "      <td>C6</td>\n",
       "      <td>0.40</td>\n",
       "    </tr>\n",
       "    <tr>\n",
       "      <th>11</th>\n",
       "      <td>Treated</td>\n",
       "      <td>C7</td>\n",
       "      <td>0.35</td>\n",
       "    </tr>\n",
       "  </tbody>\n",
       "</table>\n",
       "</div>"
      ],
      "text/plain": [
       "      Group 96-well position  Absorbance\n",
       "0   Control               B2        0.55\n",
       "1   Control               B3        0.80\n",
       "2   Control               B4        0.65\n",
       "3   Control               B5        0.60\n",
       "4   Control               B6        0.54\n",
       "5   Control               B7        0.40\n",
       "6   Treated               C2        0.35\n",
       "7   Treated               C3        0.40\n",
       "8   Treated               C4        0.24\n",
       "9   Treated               C5        0.50\n",
       "10  Treated               C6        0.40\n",
       "11  Treated               C7        0.35"
      ]
     },
     "execution_count": 3,
     "metadata": {},
     "output_type": "execute_result"
    }
   ],
   "source": [
    "#load the dataset\n",
    "absorb_df = pd.read_csv('Absorbent Measurement Analysis.csv')\n",
    "absorb_df"
   ]
  },
  {
   "cell_type": "markdown",
   "metadata": {},
   "source": [
    "<h1 align = 'center'> Absorbent Measurement for Cell Toxicity Results </h1>"
   ]
  },
  {
   "cell_type": "markdown",
   "metadata": {},
   "source": [
    "## Descriptive Statistics"
   ]
  },
  {
   "cell_type": "code",
   "execution_count": 4,
   "metadata": {},
   "outputs": [
    {
     "data": {
      "text/html": [
       "<div>\n",
       "<style scoped>\n",
       "    .dataframe tbody tr th:only-of-type {\n",
       "        vertical-align: middle;\n",
       "    }\n",
       "\n",
       "    .dataframe tbody tr th {\n",
       "        vertical-align: top;\n",
       "    }\n",
       "\n",
       "    .dataframe thead th {\n",
       "        text-align: right;\n",
       "    }\n",
       "</style>\n",
       "<table border=\"1\" class=\"dataframe\">\n",
       "  <thead>\n",
       "    <tr style=\"text-align: right;\">\n",
       "      <th></th>\n",
       "      <th>Absorbance</th>\n",
       "    </tr>\n",
       "  </thead>\n",
       "  <tbody>\n",
       "    <tr>\n",
       "      <th>count</th>\n",
       "      <td>12.000000</td>\n",
       "    </tr>\n",
       "    <tr>\n",
       "      <th>mean</th>\n",
       "      <td>0.481667</td>\n",
       "    </tr>\n",
       "    <tr>\n",
       "      <th>std</th>\n",
       "      <td>0.155261</td>\n",
       "    </tr>\n",
       "    <tr>\n",
       "      <th>min</th>\n",
       "      <td>0.240000</td>\n",
       "    </tr>\n",
       "    <tr>\n",
       "      <th>25%</th>\n",
       "      <td>0.387500</td>\n",
       "    </tr>\n",
       "    <tr>\n",
       "      <th>50%</th>\n",
       "      <td>0.450000</td>\n",
       "    </tr>\n",
       "    <tr>\n",
       "      <th>75%</th>\n",
       "      <td>0.562500</td>\n",
       "    </tr>\n",
       "    <tr>\n",
       "      <th>max</th>\n",
       "      <td>0.800000</td>\n",
       "    </tr>\n",
       "  </tbody>\n",
       "</table>\n",
       "</div>"
      ],
      "text/plain": [
       "       Absorbance\n",
       "count   12.000000\n",
       "mean     0.481667\n",
       "std      0.155261\n",
       "min      0.240000\n",
       "25%      0.387500\n",
       "50%      0.450000\n",
       "75%      0.562500\n",
       "max      0.800000"
      ]
     },
     "execution_count": 4,
     "metadata": {},
     "output_type": "execute_result"
    }
   ],
   "source": [
    "#Calculate basic descriptive statistics for absorbance values such as mean, median, standard deviation, minimum and maximum values\n",
    "absorb_df.describe()"
   ]
  },
  {
   "cell_type": "markdown",
   "metadata": {},
   "source": [
    "## Comparison of Control and Treatment Groups"
   ]
  },
  {
   "cell_type": "code",
   "execution_count": null,
   "metadata": {},
   "outputs": [],
   "source": [
    "#Compare the mean absorbance values between the control and treatment groups\n",
    "absorb_df.groupby('Group').mean()\n",
    "\n",
    "#Visualize the distribution of absorbance values for the control and treatment groups\n",
    "sns.boxplot(x='Group', y='Absorbance', data=absorb_df)\n",
    "plt.title('Absorbance values for control and treatment groups')\n",
    "plt.show()\n"
   ]
  },
  {
   "cell_type": "code",
   "execution_count": 7,
   "metadata": {},
   "outputs": [
    {
     "name": "stdout",
     "output_type": "stream",
     "text": [
      "Group\n",
      "Control    0.590000\n",
      "Treated    0.373333\n",
      "Name: Absorbance, dtype: float64\n"
     ]
    }
   ],
   "source": [
    "# Assuming 'Group' column contains the labels 'control' and 'treatment'\n",
    "mean_absorbance = absorb_df.groupby('Group')['Absorbance'].mean()\n",
    "\n",
    "print(mean_absorbance)"
   ]
  },
  {
   "cell_type": "code",
   "execution_count": null,
   "metadata": {},
   "outputs": [],
   "source": [
    "#  Statistical tests, such as t-tests or Mann-Whitney U tests, can be employed to assess if there are significant differences between the groups\n",
    "from scipy.stats import ttest_ind, mannwhitneyu\n",
    "\n",
    "# Perform t-test\n",
    "control_group = absorb_df[absorb_df['Group'] == 'control']['Absorbance']\n",
    "treatment_group = absorb_df[absorb_df['Group'] == 'treatment']['Absorbance']\n",
    "\n",
    "t_stat, p_value = ttest_ind(control_group, treatment_group)\n",
    "print('t-statistic:', t_stat)\n",
    "print('p-value:', p_value)\n",
    "\n",
    "# Perform Mann-Whitney U test\n",
    "u_stat, p_value = mannwhitneyu(control_group, treatment_group)\n",
    "print('U-statistic:', u_stat)\n",
    "print('p-value:', p_value)\n",
    "\n",
    "# Visualize the distribution of absorbance values for the control and treatment groups\n",
    "sns.boxplot(x='Group', y='Absorbance', data=absorb_df)\n",
    "plt.title('Absorbance values for control and treatment groups')\n",
    "plt.show()\n"
   ]
  },
  {
   "cell_type": "markdown",
   "metadata": {},
   "source": [
    "## Correlation Analysis"
   ]
  },
  {
   "cell_type": "code",
   "execution_count": null,
   "metadata": {},
   "outputs": [],
   "source": [
    "# Assuming 'concentration' and 'exposure_duration' are the other relevant columns\n",
    "correlation_matrix = absorb_df[['absorbance', 'concentration', 'exposure_duration']].corr()\n",
    "\n",
    "print(correlation_matrix)"
   ]
  },
  {
   "cell_type": "markdown",
   "metadata": {},
   "source": [
    "## Dose response Relationship"
   ]
  },
  {
   "cell_type": "code",
   "execution_count": null,
   "metadata": {},
   "outputs": [],
   "source": [
    "import matplotlib.pyplot as plt\n",
    "from scipy.optimize import curve_fit\n",
    "\n",
    "# Convert '96-well position' to numeric values, coercing invalid values to NaN\n",
    "absorb_df['96-well position'] = pd.to_numeric(absorb_df['96-well position'], errors='coerce')\n",
    "\n",
    "# Remove rows with NaN '96-well position' values\n",
    "absorb_df = absorb_df.dropna(subset=['96-well position'])\n",
    "\n",
    "# Now you can use '96-well position' in your curve fitting function\n",
    "x_data = absorb_df['96-well position']\n",
    "y_data = absorb_df['Absorbance']\n",
    "\n",
    "# Fit the curve\n",
    "popt, pcov = curve_fit(dose_response, x_data, y_data)\n",
    "\n",
    "# Plot the data and the fitted curve\n",
    "plt.scatter(x_data, y_data, label='Data')\n",
    "plt.plot(x_data, dose_response(x_data, *popt), 'r-', label='Fit: a=%5.3f, b=%5.3f, c=%5.3f' % tuple(popt))\n",
    "plt.xlabel('Concentration')\n",
    "plt.ylabel('Absorbance')\n",
    "plt.legend()\n",
    "plt.show()"
   ]
  },
  {
   "cell_type": "code",
   "execution_count": null,
   "metadata": {},
   "outputs": [],
   "source": [
    "import matplotlib.pyplot as plt\n",
    "from scipy.optimize import curve_fit\n",
    "\n",
    "# Define a function for the dose-response relationship\n",
    "def dose_response(x, a, b, c):\n",
    "      return a / (1 + np.exp(-b * (x - c)))\n",
    "\n",
    "# Assuming '96-well position' represents different concentrations\n",
    "x_data = absorb_df['96-well position']\n",
    "y_data = absorb_df['Absorbance']\n",
    "\n",
    "# Fit the curve\n",
    "popt, pcov = curve_fit(dose_response, x_data, y_data)\n",
    "\n",
    "# Plot the data and the fitted curve\n",
    "plt.scatter(x_data, y_data, label='Data')\n",
    "plt.plot(x_data, dose_response(x_data, *popt), 'r-', label='Fit: a=%5.3f, b=%5.3f, c=%5.3f' % tuple(popt))\n",
    "plt.xlabel('Concentration')\n",
    "plt.ylabel('Absorbance')\n",
    "plt.legend()\n",
    "plt.show()"
   ]
  }
 ],
 "metadata": {
  "kernelspec": {
   "display_name": "Python 3",
   "language": "python",
   "name": "python3"
  },
  "language_info": {
   "codemirror_mode": {
    "name": "ipython",
    "version": 3
   },
   "file_extension": ".py",
   "mimetype": "text/x-python",
   "name": "python",
   "nbconvert_exporter": "python",
   "pygments_lexer": "ipython3",
   "version": "3.12.1"
  }
 },
 "nbformat": 4,
 "nbformat_minor": 2
}
